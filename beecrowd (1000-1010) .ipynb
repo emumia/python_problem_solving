{
 "cells": [
  {
   "cell_type": "markdown",
   "id": "9fe18bb2",
   "metadata": {},
   "source": [
    "# beecrowd | 1000\n",
    "Hello World!"
   ]
  },
  {
   "cell_type": "code",
   "execution_count": 1,
   "id": "75d6b354",
   "metadata": {},
   "outputs": [
    {
     "name": "stdout",
     "output_type": "stream",
     "text": [
      "Hello World!\n"
     ]
    }
   ],
   "source": [
    "print(\"Hello World!\")"
   ]
  },
  {
   "cell_type": "markdown",
   "id": "2596f9f5",
   "metadata": {},
   "source": [
    "# beecrowd | 1001\n",
    "#Read 2 variables, named A and B and make the sum of these two variables, assigning its result to the variable X. \n",
    "#Print X as shown below. Print endline after the result otherwise you will get “Presentation Error”."
   ]
  },
  {
   "cell_type": "code",
   "execution_count": 2,
   "id": "77b05312",
   "metadata": {},
   "outputs": [
    {
     "name": "stdout",
     "output_type": "stream",
     "text": [
      "2\n",
      "3\n",
      "X = 5\n"
     ]
    }
   ],
   "source": [
    "A = int(input()) \n",
    "B = int(input())\n",
    "X = A + B\n",
    "print(\"X =\",X)"
   ]
  },
  {
   "cell_type": "markdown",
   "id": "f4752ee7",
   "metadata": {},
   "source": [
    "# beecrowd | 1002\n",
    "# Area of a Circle\n",
    "#The formula to calculate the area of a circumference is defined as A = π . R2. Considering to this problem that \n",
    "#π = 3.14159: Calculate the area using the formula given in the problem description."
   ]
  },
  {
   "cell_type": "code",
   "execution_count": 4,
   "id": "c40e9c35",
   "metadata": {},
   "outputs": [
    {
     "name": "stdout",
     "output_type": "stream",
     "text": [
      "3.3\n",
      "A=34.2119\n"
     ]
    }
   ],
   "source": [
    "R=float(input())\n",
    "area=(R*R)*3.14159\n",
    "print(\"A=%0.4f\" %area)"
   ]
  },
  {
   "cell_type": "code",
   "execution_count": 5,
   "id": "47e759df",
   "metadata": {},
   "outputs": [],
   "source": [
    "#beecrowd | 1003\n",
    "#Simple Sum\n",
    "#Read two integer values, in this case, the variables A and B. After this, calculate the sum between them and assign it to \n",
    "#the variable SOMA. Write the value of this variable."
   ]
  },
  {
   "cell_type": "code",
   "execution_count": 6,
   "id": "aad9942c",
   "metadata": {},
   "outputs": [
    {
     "name": "stdout",
     "output_type": "stream",
     "text": [
      "2\n",
      "3\n",
      "SOMA = 5\n"
     ]
    }
   ],
   "source": [
    "A=int(input())\n",
    "B=int(input())\n",
    "SOMA = A+B\n",
    "print(\"SOMA = %d\" %SOMA)"
   ]
  },
  {
   "cell_type": "code",
   "execution_count": 7,
   "id": "4ca39008",
   "metadata": {},
   "outputs": [],
   "source": [
    "#beecrowd | 1004\n",
    "#Simple Product\n",
    "#Read two integer values. After this, calculate the product between them and store the result in a variable named PROD. \n",
    "#Print the result like the example below. Do not forget to print the end of line after the result, otherwise you will \n",
    "#receive “Presentation Error”."
   ]
  },
  {
   "cell_type": "code",
   "execution_count": 8,
   "id": "0f5f4c88",
   "metadata": {},
   "outputs": [
    {
     "name": "stdout",
     "output_type": "stream",
     "text": [
      "34\n",
      "43\n",
      "PROD = 1462\n"
     ]
    }
   ],
   "source": [
    "A=int(input())\n",
    "B=int(input())\n",
    "PROD = A*B\n",
    "print(\"PROD = %d\" %PROD)"
   ]
  },
  {
   "cell_type": "code",
   "execution_count": 9,
   "id": "6ed93fb4",
   "metadata": {},
   "outputs": [],
   "source": [
    "#beecrowd | 1005\n",
    "#Average 1\n",
    "#Read two floating points' values of double precision A and B, corresponding to two student's grades. \n",
    "#After this, calculate the student's average, considering that grade A has weight 3.5 and B has weight 7.5. \n",
    "#Each grade can be from zero to ten, always with one digit after the decimal point. Don’t forget to print the end of \n",
    "#line after the result, otherwise you will receive “Presentation Error”. Don’t forget the space before and after the equal\n",
    "#sign."
   ]
  },
  {
   "cell_type": "code",
   "execution_count": 10,
   "id": "49d62f79",
   "metadata": {},
   "outputs": [
    {
     "name": "stdout",
     "output_type": "stream",
     "text": [
      "3.4\n",
      "4.66\n",
      "MEDIA = 4.25909\n"
     ]
    }
   ],
   "source": [
    "nota1 = float(input())\n",
    "nota2 = float(input())\n",
    "media = (((nota1 * 3.5) + (nota2 * 7.5)) / 11)\n",
    "print('MEDIA = %.5f' %media)"
   ]
  },
  {
   "cell_type": "code",
   "execution_count": 11,
   "id": "d2875beb",
   "metadata": {},
   "outputs": [],
   "source": [
    "#beecrowd | 1006\n",
    "#Average 2\n",
    "#Read three values (variables A, B and C), which are the three student's grades. Then, calculate the average, \n",
    "#considering that grade A has weight 2, grade B has weight 3 and the grade C has weight 5. Consider that each grade can \n",
    "#go from 0 to 10.0, always with one decimal place."
   ]
  },
  {
   "cell_type": "code",
   "execution_count": 12,
   "id": "b6ac9864",
   "metadata": {},
   "outputs": [
    {
     "name": "stdout",
     "output_type": "stream",
     "text": [
      "2.3\n",
      "3.2\n",
      "3.5\n",
      "MEDIA = 3.2\n"
     ]
    }
   ],
   "source": [
    "A,B,C=2,3,5\n",
    "nota1=float(input())\n",
    "nota2=float(input())\n",
    "nota3=float(input())\n",
    "MEDIA=((nota1*A)+(nota2*B)+(nota3*C))/10\n",
    "print(\"MEDIA = %.1f\" %MEDIA)"
   ]
  },
  {
   "cell_type": "code",
   "execution_count": 13,
   "id": "d1d16154",
   "metadata": {},
   "outputs": [],
   "source": [
    "#beecrowd | 1007\n",
    "#Difference\n",
    "#Read four integer values named A, B, C and D. Calculate and print the difference of product A and B by the product of\n",
    "#C and D (A * B - C * D)."
   ]
  },
  {
   "cell_type": "code",
   "execution_count": 14,
   "id": "3c2b88c8",
   "metadata": {},
   "outputs": [
    {
     "name": "stdout",
     "output_type": "stream",
     "text": [
      "2\n",
      "3\n",
      "4\n",
      "5\n",
      "DIFERENCA = -14\n"
     ]
    }
   ],
   "source": [
    "A=int(input())\n",
    "B=int(input())\n",
    "C=int(input())\n",
    "D=int(input())\n",
    "\n",
    "DIFERENCA = (A*B)-(C*D)\n",
    "print(\"DIFERENCA = %d\" %DIFERENCA)"
   ]
  },
  {
   "cell_type": "code",
   "execution_count": 15,
   "id": "1fce4803",
   "metadata": {},
   "outputs": [],
   "source": [
    "#beecrowd | 1008\n",
    "#Salary\n",
    "#Write a program that reads an employee's number, his/her worked hours number in a month and the amount he received \n",
    "#per hour. Print the employee's number and salary that he/she will receive at end of the month, with two decimal places.\n",
    "\n",
    "#Don’t forget to print the line's end after the result, otherwise you will receive “Presentation Error”.\n",
    "#Don’t forget the space before and after the equal signal and after the U$."
   ]
  },
  {
   "cell_type": "code",
   "execution_count": 16,
   "id": "1802c756",
   "metadata": {},
   "outputs": [
    {
     "name": "stdout",
     "output_type": "stream",
     "text": [
      "5\n",
      "4\n",
      "5.90\n",
      "NUMBER = 5\n",
      "SALARY = U$ 23.60\n"
     ]
    }
   ],
   "source": [
    "NUMBER =int(input())\n",
    "HRs=int(input())\n",
    "slry=float(input())\n",
    "salary=HRs*slry\n",
    "print(\"NUMBER = %d\\nSALARY = U$ %.2f\" %(NUMBER,salary))"
   ]
  },
  {
   "cell_type": "code",
   "execution_count": 17,
   "id": "48eaeaca",
   "metadata": {},
   "outputs": [],
   "source": [
    "#beecrowd | 1009\n",
    "#Salary with Bonus\n",
    "#Make a program that reads a seller's name, his/her fixed salary and the sale's total made by himself/herself in the \n",
    "#month (in money). Considering that this seller receives 15% over all products sold, write the final salary (total) of \n",
    "#this seller at the end of the month , with two decimal places.\n",
    "\n",
    "#- Don’t forget to print the line's end after the result, otherwise you will receive “Presentation Error”.\n",
    "\n",
    "#- Don’t forget the blank spaces."
   ]
  },
  {
   "cell_type": "code",
   "execution_count": 18,
   "id": "fe1a8ed9",
   "metadata": {},
   "outputs": [
    {
     "name": "stdout",
     "output_type": "stream",
     "text": [
      "IMRAN\n",
      "3.4\n",
      "5.6\n",
      "TOTAL = R$ 4.24\n"
     ]
    }
   ],
   "source": [
    "name=(input())\n",
    "salary=float(input())\n",
    "sells=float(input())\n",
    "total_salary=(0.15*sells)+salary\n",
    "print(\"TOTAL = R$ %.2f\" %total_salary)"
   ]
  },
  {
   "cell_type": "code",
   "execution_count": 19,
   "id": "ca8714a0",
   "metadata": {},
   "outputs": [],
   "source": [
    "#beecrowd | 1010\n",
    "#Simple Calculate\n",
    "#In this problem, the task is to read a code of a product 1, the number of units of product 1, the price for one unit of \n",
    "#product 1, the code of a product 2, the number of units of product 2 and the price for one unit of product 2. After this, \n",
    "#calculate and show the amount to be paid."
   ]
  },
  {
   "cell_type": "code",
   "execution_count": 21,
   "id": "b134326e",
   "metadata": {},
   "outputs": [
    {
     "name": "stdout",
     "output_type": "stream",
     "text": [
      "16 2 5.10\n",
      "12 1 5.30\n",
      "VALOR A PAGAR: R$ 15.50\n"
     ]
    }
   ],
   "source": [
    "prod1=input().split(\" \")\n",
    "prod2=input().split(\" \")\n",
    "cod1,qt1,valor1 = prod1\n",
    "cod2,qt2,valor2 = prod2\n",
    "total = (int(qt1) * float(valor1)) + (int(qt2) * float(valor2))\n",
    "print(\"VALOR A PAGAR: R$ %0.2f\" %total)"
   ]
  },
  {
   "cell_type": "code",
   "execution_count": null,
   "id": "d5fa4fb4",
   "metadata": {},
   "outputs": [],
   "source": []
  },
  {
   "cell_type": "code",
   "execution_count": null,
   "id": "52003670",
   "metadata": {},
   "outputs": [],
   "source": []
  }
 ],
 "metadata": {
  "kernelspec": {
   "display_name": "Python 3 (ipykernel)",
   "language": "python",
   "name": "python3"
  },
  "language_info": {
   "codemirror_mode": {
    "name": "ipython",
    "version": 3
   },
   "file_extension": ".py",
   "mimetype": "text/x-python",
   "name": "python",
   "nbconvert_exporter": "python",
   "pygments_lexer": "ipython3",
   "version": "3.9.13"
  }
 },
 "nbformat": 4,
 "nbformat_minor": 5
}
