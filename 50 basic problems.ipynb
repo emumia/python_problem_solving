{
 "cells": [
  {
   "cell_type": "markdown",
   "id": "0763e159",
   "metadata": {},
   "source": [
    "\"\"\"1. Write a program to find the sum of all numbers from 1 to N.\n",
    "\n",
    "2. Given a list of integers, find the maximum and minimum elements.\n",
    "\n",
    "3. Write a program to check if a given number is prime.\n",
    "\n",
    "4. Find the factorial of a given number.\n",
    "\n",
    "5. Count the number of vowels in a string.\n",
    "\n",
    "6. Check if a given string is a palindrome.\n",
    "\n",
    "7. Reverse a given list of integers.\n",
    "\n",
    "8. Find the second largest element in a list of integers.\n",
    "\n",
    "9. Write a program to remove duplicates from a list.\n",
    "\n",
    "10. Given a list of integers, find the average.\n",
    "\n",
    "11. Check if the two lists are equal.\n",
    "\n",
    "12. Find the intersection of two lists.\n",
    "\n",
    "13. Given a list of integers, remove all the even numbers.\n",
    "\n",
    "14. Given a list of strings, concatenate them into a single string.\n",
    "\n",
    "15. Find the number of occurrences of a specific element in a list.\n",
    "\n",
    "16. Remove the duplicates from a string.\n",
    "\n",
    "17. Count the number of words in a sentence.\n",
    "\n",
    "18. Write a program to check if a given string is a pangram.\n",
    "\n",
    "19. Calculate the sum of digits in a number.\n",
    "\n",
    "20. Given a list of integers, find the product of all the elements.\n",
    "\n",
    "21. Check if a given number is a perfect square.\n",
    "\n",
    "22. Find the length of the longest word in a sentence.\n",
    "\n",
    "23. Calculate the average of all the even numbers in a list.\n",
    "\n",
    "24. Given a list of integers, find the median.\n",
    "\n",
    "25. Check if a given string is an anagram of another string.\n",
    "\n",
    "26. Write a program to reverse a string.\n",
    "\n",
    "27. Find the sum of all the even numbers between two given numbers.\n",
    "\n",
    "28. Given a list of strings, find the longest string.\n",
    "\n",
    "29. Remove all the special characters from a string.\n",
    "\n",
    "30. Calculate the power of a number.\n",
    "\n",
    "31. Check if a given number is a palindrome.\n",
    "\n",
    "32. Given a list of integers, find the second smallest element.\n",
    "\n",
    "33. Remove the vowels from a string.\n",
    "\n",
    "34. Given a list of strings, find the number of words in each string.\n",
    "\n",
    "35. Sort a list of integers in ascending order.\n",
    "\n",
    "36. Check if all elements in a list are unique.\n",
    "\n",
    "37. Given a list of tuples, sort them based on the second element.\n",
    "\n",
    "38. Remove the duplicates from a list of tuples.\n",
    "\n",
    "39. Find the most frequent element in a list.\n",
    "\n",
    "40. Given two lists, find their common elements.\n",
    "\n",
    "41. Calculate the sum of all the odd numbers between two given numbers.\n",
    "\n",
    "42. Check if a given string is a valid email address.\n",
    "\n",
    "43. Find the number of words starting with a specific letter in a sentence.\n",
    "\n",
    "44. Given a list of integers, find the third largest element.\n",
    "\n",
    "45. Check if a given list is sorted in non-decreasing order.\n",
    "\n",
    "46. Find the number of prime numbers in a given range.\n",
    "\n",
    "47. Given a list of tuples, convert it into a dictionary.\n",
    "\n",
    "48. Check if a given string is a palindrome ignoring spaces.\n",
    "\n",
    "49. Given a string, count the number of uppercase and lowercase letters.\n",
    "\n",
    "50. Write a program to remove duplicate characters from a string.\"\"\""
   ]
  },
  {
   "cell_type": "code",
   "execution_count": 220,
   "id": "15bbe7ff",
   "metadata": {},
   "outputs": [
    {
     "name": "stdout",
     "output_type": "stream",
     "text": [
      "enter number 20\n",
      "um of all numbers from 1 to N is 210\n"
     ]
    }
   ],
   "source": [
    "#1 Write a program to find the sum of all numbers from 1 to N\n",
    "N = int(input(\"enter number \"))\n",
    "result = 0\n",
    "\n",
    "for  i in range(1,N+1):\n",
    "    result+=i\n",
    "print(f\"um of all numbers from 1 to N is {result}\")    \n",
    "    \n"
   ]
  },
  {
   "cell_type": "code",
   "execution_count": 58,
   "id": "ef72191b",
   "metadata": {},
   "outputs": [
    {
     "name": "stdout",
     "output_type": "stream",
     "text": [
      "1\n",
      "10\n"
     ]
    }
   ],
   "source": [
    "#2 Given a list of integers, find the maximum and minimum elements\n",
    "list1=[1,2,3,4,5,6,7,8,9,10]\n",
    "print(min(list1))\n",
    "print(max(list1))"
   ]
  },
  {
   "cell_type": "code",
   "execution_count": 185,
   "id": "3c095ead",
   "metadata": {},
   "outputs": [
    {
     "name": "stdout",
     "output_type": "stream",
     "text": [
      "check prime number: 4\n",
      " 4 is not prime number\n"
     ]
    }
   ],
   "source": [
    "#3 Write a program to check if a given number is prime.\n",
    "number = int(input(\"check prime number: \"))\n",
    "if number > 1:\n",
    "    for i in range(2, int(number/2)+1):\n",
    "        if number % i == 0:\n",
    "            print(f\" {number} is not prime number\")\n",
    "            break\n",
    "        else:\n",
    "            print(f\" {number} is a prime number\")\n",
    "else:\n",
    "    print(f\" {number} is not prime number\")\n",
    "    "
   ]
  },
  {
   "cell_type": "code",
   "execution_count": 202,
   "id": "62eb82f3",
   "metadata": {},
   "outputs": [
    {
     "name": "stdout",
     "output_type": "stream",
     "text": [
      "Enter a number: 5\n",
      "The factorial of 5 is 120 \n"
     ]
    }
   ],
   "source": [
    "#4 Find the factorial of a given number.\n",
    "\n",
    "num = int(input(\"Enter a number: \"))\n",
    "\n",
    "factorial = 1\n",
    "\n",
    "# check if the number is negative, positive or zero\n",
    "if num < 0:\n",
    "    print(\"Sorry, factorial does not exist for negative numbers\")\n",
    "elif num == 0:\n",
    "    print(\"The factorial of 0 is 1\")\n",
    "else:\n",
    "    for i in range(1,num + 1):\n",
    "        factorial = factorial*i\n",
    "print(f\"The factorial of {num} is {factorial} \")"
   ]
  },
  {
   "cell_type": "code",
   "execution_count": 4,
   "id": "42c6ab6a",
   "metadata": {},
   "outputs": [
    {
     "name": "stdout",
     "output_type": "stream",
     "text": [
      "Enter a string to count the vowles: imran khan\n",
      "No. of vowels :  3\n"
     ]
    }
   ],
   "source": [
    "#5 Count the number of vowels in a string\n",
    "\n",
    "def vowels(str):                           # Function to count vowel\n",
    "     \n",
    "    count = 0                              # Initializing count variable to 0\n",
    "     \n",
    "    # Creating a set of vowels\n",
    "    vowel = set(\"aeiouAEIOU\")\n",
    "     \n",
    "    # Loop to traverse the alphabet\n",
    "    # in the given string\n",
    "    for alphabet in str:\n",
    "     \n",
    "        # If alphabet is present\n",
    "        # in set vowel\n",
    "        if alphabet in vowel:\n",
    "            count = count + 1\n",
    "     \n",
    "    print(f\"No. of vowels :  {count}\")\n",
    "     \n",
    "str = input(\"Enter a string to count the vowles: \")\n",
    " \n",
    "# Function Call\n",
    "vowels(str)"
   ]
  },
  {
   "cell_type": "code",
   "execution_count": 5,
   "id": "fd56d850",
   "metadata": {},
   "outputs": [
    {
     "name": "stdout",
     "output_type": "stream",
     "text": [
      "Enter string here: imran\n",
      "imran it is not palindrome \n"
     ]
    }
   ],
   "source": [
    "#6 Check if a given string is a palindrome.\n",
    "str = input(\"Enter string here: \")\n",
    "if str[::-1] == str:\n",
    "    print(f\"{str} it is palindrome \")\n",
    "else:\n",
    "    print(f\"{str} it is not palindrome \")"
   ]
  },
  {
   "cell_type": "code",
   "execution_count": 6,
   "id": "bb84529b",
   "metadata": {},
   "outputs": [
    {
     "name": "stdout",
     "output_type": "stream",
     "text": [
      "The reverse list is [10, 9, 7, 8, 7, 6, 5, 4, 3, 2, 1]\n"
     ]
    }
   ],
   "source": [
    "#7 Reverse a given list of integers\n",
    "list1=[1,2,3,4,5,6,7,8,7,9,10]\n",
    "list1.reverse()\n",
    "print(f\"The reverse list is {list1}\")\n"
   ]
  },
  {
   "cell_type": "code",
   "execution_count": 7,
   "id": "6a2ee1c4",
   "metadata": {},
   "outputs": [
    {
     "name": "stdout",
     "output_type": "stream",
     "text": [
      "The second largest element in a list is 9\n"
     ]
    }
   ],
   "source": [
    "#8 Find the second largest element in a list of integers.\n",
    "list1=[1,2,3,4,5,6,7,8,7,9,10]\n",
    "list1.sort(reverse=True)\n",
    "print(f\"The second largest element in a list is {list1[1]}\")"
   ]
  },
  {
   "cell_type": "code",
   "execution_count": 8,
   "id": "a2c88dc7",
   "metadata": {},
   "outputs": [
    {
     "name": "stdout",
     "output_type": "stream",
     "text": [
      "Duplicate has removed and final answer is {1, 2, 3, 4, 5, 6, 7, 8, 9, 10, 11, 12} \n",
      "Duplicate has removed and final answer is [1, 2, 3, 4, 5, 6, 7, 8, 9, 10, 11, 12, 78, 22] \n"
     ]
    }
   ],
   "source": [
    "#9 Write a program to remove duplicates from a list.\n",
    "list1 = [1,2,3,4,5,6,7,8,7,9,10,12,11,2,4,6,7]\n",
    "list2 = [1,2,3,4,5,6,7,8,4,5,6,78,22,7,9,10,12,11,2,4,6,7]\n",
    "remove_duplocate = set(list1)\n",
    "remove_duplocate1 = [*set(list2)]\n",
    "print(f\"Duplicate has removed and final answer is {remove_duplocate} \")\n",
    "print(f\"Duplicate has removed and final answer is {remove_duplocate1} \")"
   ]
  },
  {
   "cell_type": "code",
   "execution_count": 9,
   "id": "192bbffb",
   "metadata": {},
   "outputs": [
    {
     "name": "stdout",
     "output_type": "stream",
     "text": [
      "Round average of the list = 6 and actual  average is 6.0\n"
     ]
    }
   ],
   "source": [
    "#10 Given a list of integers, find the average.\n",
    "# Python program to get average of a list\n",
    "def Average(lst):\n",
    "    return sum(lst) / len(lst)\n",
    " \n",
    "# Given list\n",
    "lst = [1,2,3,4,5,6,7,8,9,10,11]\n",
    "average = Average(lst)\n",
    " \n",
    "# Printing average of the list\n",
    "print(f\"Round average of the list = {round(average)} and actual  average is {average}\")\n"
   ]
  },
  {
   "cell_type": "code",
   "execution_count": 10,
   "id": "db81ab17",
   "metadata": {},
   "outputs": [
    {
     "name": "stdout",
     "output_type": "stream",
     "text": [
      "NO! both are not equal list\n"
     ]
    }
   ],
   "source": [
    "#11 Check if the two lists are equal.\n",
    "list1 = [1,2,3,4,5,6,7,8,7,9,10,12,11,2,4,6,7]\n",
    "list2 = [1,2,3,4,5,6,7,8,4,5,6,78,22,7,9,10,12,11,2,4,6,7]\n",
    "\n",
    "if list1 == list2:\n",
    "    print(\"yes! both are equal list \")\n",
    "else:\n",
    "    print(\"NO! both are not equal list\")\n",
    "    \n"
   ]
  },
  {
   "cell_type": "code",
   "execution_count": 11,
   "id": "b2a522c7",
   "metadata": {},
   "outputs": [
    {
     "name": "stdout",
     "output_type": "stream",
     "text": [
      "Intersection of two list is {2, 4, 6, 7, 9, 10}\n"
     ]
    }
   ],
   "source": [
    "#12 Find the intersection of two lists.\n",
    "list1 = [1,2,3,4,5,6,7,8,7,9,10]\n",
    "list2 = [78,22,7,9,10,12,11,2,4,6,7]\n",
    "intersection_list= set(list1).intersection(list2)\n",
    "print(f\"Intersection of two list is {intersection_list}\")\n"
   ]
  },
  {
   "cell_type": "code",
   "execution_count": 12,
   "id": "86817e93",
   "metadata": {},
   "outputs": [
    {
     "name": "stdout",
     "output_type": "stream",
     "text": [
      "Odd list is [1, 3, 5, 7, 7, 9, 11, 13]\n"
     ]
    }
   ],
   "source": [
    "#13 Given a list of integers, remove all the even numbers.\n",
    "list1 = [1,2,3,4,5,6,7,8,7,9,10,11,12,13]\n",
    "odd_list=[]\n",
    "for lst in list1:\n",
    "    if lst % 2 != 0:\n",
    "        odd_list.append(lst)\n",
    "print(f\"Odd list is {odd_list}\")        "
   ]
  },
  {
   "cell_type": "code",
   "execution_count": 201,
   "id": "4aa14a95",
   "metadata": {},
   "outputs": [
    {
     "name": "stdout",
     "output_type": "stream",
     "text": [
      "  My name is Imran\n"
     ]
    }
   ],
   "source": [
    "#14 Given a list of strings, concatenate them into a single string\n",
    "list_name= [\"My\",\"name\",\"is\",\"Imran\"]\n",
    "ans = ' '\n",
    "for i in list_name:        # concatenating the strings\n",
    "    ans = ans+ ' '+ i      # using + operator\n",
    "print(ans)"
   ]
  },
  {
   "cell_type": "code",
   "execution_count": 14,
   "id": "557263ba",
   "metadata": {},
   "outputs": [
    {
     "name": "stdout",
     "output_type": "stream",
     "text": [
      "The occurrences of  x is 3\n"
     ]
    }
   ],
   "source": [
    "#15 Find the number of occurrences of a specific element in a list\n",
    "list1 = [1,2,3,4,78,22,7,9,10,12,11,2,4,6,7,6,6,7,8]\n",
    "x = 6\n",
    "print(f\"The occurrences of  x is {list1.count(x)}\")"
   ]
  },
  {
   "cell_type": "code",
   "execution_count": 15,
   "id": "c4ed3524",
   "metadata": {},
   "outputs": [
    {
     "name": "stdout",
     "output_type": "stream",
     "text": [
      "enter a string here: iimmrarn\n",
      "imnra\n"
     ]
    }
   ],
   "source": [
    "#16 Remove the duplicates from a string\n",
    "strs=input(\"enter a string here: \")\n",
    "rmv_duplicate=set(strs)\n",
    "ans=\"\"\n",
    "#print(rmv_duplicate)\n",
    "for i in rmv_duplicate:\n",
    "    ans = ans+i\n",
    "print(ans)"
   ]
  },
  {
   "cell_type": "code",
   "execution_count": 16,
   "id": "0e038c63",
   "metadata": {},
   "outputs": [
    {
     "name": "stdout",
     "output_type": "stream",
     "text": [
      "The counted words are 15\n"
     ]
    }
   ],
   "source": [
    "#17 Count the number of words in a sentence\n",
    "words=\"my name is imran and i'm trying to be a good programmer,here is some formulas\"\n",
    "split_words=len(words.split())\n",
    "print(f\"The counted words are {split_words}\")"
   ]
  },
  {
   "cell_type": "code",
   "execution_count": 203,
   "id": "e69e91e8",
   "metadata": {},
   "outputs": [
    {
     "name": "stdout",
     "output_type": "stream",
     "text": [
      "Enter something string: imran\n",
      "is not a pangram\n"
     ]
    }
   ],
   "source": [
    "#18 Write a program to check if a given string is a pangram\n",
    "str= input(\"Enter something string: \")\n",
    "if len(set('abcdefghijklmnopqrstuvwxyz') - set(str.lower())) == 0 :\n",
    "    print(\"is a pangram\")\n",
    "else:\n",
    "    print(\"is not a pangram\")    "
   ]
  },
  {
   "cell_type": "code",
   "execution_count": 18,
   "id": "76ebba14",
   "metadata": {},
   "outputs": [
    {
     "name": "stdout",
     "output_type": "stream",
     "text": [
      "enter a digits: 66\n",
      "12\n"
     ]
    }
   ],
   "source": [
    "#19 Calculate the sum of digits in a number\n",
    "digits = input(\"enter a digits: \")\n",
    "digit_split = [*list(digits)]\n",
    "sum_of_disits = 0\n",
    "for i in digit_split:\n",
    "    sum_of_disits+=int(i)\n",
    "print(sum_of_disits)    \n",
    "    "
   ]
  },
  {
   "cell_type": "code",
   "execution_count": 20,
   "id": "3bed4580",
   "metadata": {},
   "outputs": [
    {
     "name": "stdout",
     "output_type": "stream",
     "text": [
      "24\n"
     ]
    }
   ],
   "source": [
    "#20 Given a list of integers, find the product of all the element\n",
    "import math\n",
    "list1 = [1,2,3,4]\n",
    "print(math.prod(list1))   "
   ]
  },
  {
   "cell_type": "code",
   "execution_count": 21,
   "id": "bbc84864",
   "metadata": {},
   "outputs": [
    {
     "name": "stdout",
     "output_type": "stream",
     "text": [
      "enter a intiger number: 4\n",
      "perfect square\n"
     ]
    }
   ],
   "source": [
    "#21 Check if a given number is a perfect square.\n",
    "x=int(input(\"enter a intiger number: \"))\n",
    "if(x >= 0):\n",
    "    sr = int(math.sqrt(x))\n",
    "    if ((sr*sr) == x):\n",
    "        print(\"perfect square\")\n",
    "    else:\n",
    "        print(\"NOT perfect square\")\n",
    "else:\n",
    "    print(\"NOT perfect square\")\n",
    "        "
   ]
  },
  {
   "cell_type": "code",
   "execution_count": 22,
   "id": "3dbdf081",
   "metadata": {},
   "outputs": [
    {
     "name": "stdout",
     "output_type": "stream",
     "text": [
      "Enter your sentence: imran khan\n",
      "the length of the longest word in a sentence is 5\n"
     ]
    }
   ],
   "source": [
    "#22 Find the length of the longest word in a sentence.\n",
    "words = input(\"Enter your sentence: \")\n",
    "big_word=words.split()\n",
    "new_list=[]\n",
    "for i in big_word:\n",
    "    new_list.append(len(i))\n",
    "new_list.sort(reverse=True)\n",
    "print(f\"the length of the longest word in a sentence is {new_list[0]}\")\n"
   ]
  },
  {
   "cell_type": "code",
   "execution_count": 24,
   "id": "2d9bb788",
   "metadata": {},
   "outputs": [
    {
     "name": "stdout",
     "output_type": "stream",
     "text": [
      "sumetion of even list is 7.142857142857143\n"
     ]
    }
   ],
   "source": [
    "#23 Calculate the average of all the even numbers in a list.\n",
    "list1 = [1,2,3,4,5,6,7,8,7,9,10,11,12,13,8]\n",
    "even_list=[]\n",
    "for lst in list1:\n",
    "    if lst % 2 == 0:\n",
    "        even_list.append(lst)        \n",
    "print(f\"sumetion of even list is {(sum(even_list))/len(even_list)}\")"
   ]
  },
  {
   "cell_type": "code",
   "execution_count": 200,
   "id": "c2157351",
   "metadata": {},
   "outputs": [
    {
     "name": "stdout",
     "output_type": "stream",
     "text": [
      "median of list1 : 5\n",
      "median of list1 : 5.5\n"
     ]
    }
   ],
   "source": [
    "#24 Given a list of integers, find the median\n",
    "import statistics as imran\n",
    "list1 = [1,2,3,4,5,6,7,8,9]\n",
    "list2 = [1,2,3,4,5,6,7,8,9,10]\n",
    "print(f\"median of list1 : {imran.median(list1)}\")\n",
    "print(f\"median of list1 : {imran.median(list2)}\")"
   ]
  },
  {
   "cell_type": "code",
   "execution_count": 72,
   "id": "3ddfbcd2",
   "metadata": {},
   "outputs": [
    {
     "name": "stdout",
     "output_type": "stream",
     "text": [
      "Enter first string : IMran\n",
      "Enter second string : imran\n",
      "Its anagram\n"
     ]
    }
   ],
   "source": [
    "#25 Check if a given string is an anagram of another string.\n",
    "str1= input(\"Enter first string : \").lower()\n",
    "str2= input(\"Enter second string : \").lower()\n",
    "\n",
    "if(len(str1) == len(str2)):\n",
    "    sorted_str1 = sorted(str1)\n",
    "    sorted_str2 = sorted(str2)\n",
    "    if sorted_str1 == sorted_str2:\n",
    "        print(\"Its anagram\")\n",
    "    else:\n",
    "        print(\"Its not anagram\")\n",
    "else:\n",
    "    print(\"Its not anagram\")\n",
    "\n"
   ]
  },
  {
   "cell_type": "code",
   "execution_count": 27,
   "id": "2fdb4e2d",
   "metadata": {},
   "outputs": [
    {
     "name": "stdout",
     "output_type": "stream",
     "text": [
      "Enter a string here: imran\n",
      "narmi\n"
     ]
    }
   ],
   "source": [
    "#26 Write a program to reverse a string\n",
    "str = input(\"Enter a string here: \")\n",
    "print(f\"{str[::-1]}\")"
   ]
  },
  {
   "cell_type": "code",
   "execution_count": 199,
   "id": "3b5de2af",
   "metadata": {},
   "outputs": [
    {
     "name": "stdout",
     "output_type": "stream",
     "text": [
      "Enter First number 1\n",
      "Enter second number 10\n",
      "30\n"
     ]
    }
   ],
   "source": [
    "#27 Find the sum of all the even numbers between two given numbers\n",
    "num1=int(input(\"Enter First number \"))\n",
    "num2=int(input(\"Enter second number \"))\n",
    "result=0\n",
    "for i in range(num1,num2+1):\n",
    "    if i % 2 == 0:\n",
    "        result+=i\n",
    "print(result)        "
   ]
  },
  {
   "cell_type": "code",
   "execution_count": 74,
   "id": "651ccdc7",
   "metadata": {},
   "outputs": [
    {
     "name": "stdout",
     "output_type": "stream",
     "text": [
      "muhammad\n"
     ]
    }
   ],
   "source": [
    "#28 Given a list of strings, find the longest string\n",
    "list1 = ['imran','khan','muhammad','muhammed','bari','noman','mamun']\n",
    "res = max(list1, key=len)    \n",
    "print(res)\n",
    "    "
   ]
  },
  {
   "cell_type": "code",
   "execution_count": 83,
   "id": "53903a5b",
   "metadata": {},
   "outputs": [
    {
     "name": "stdout",
     "output_type": "stream",
     "text": [
      "Enter strings here: imran$%#@ khan\n",
      "imrankhan\n"
     ]
    }
   ],
   "source": [
    "#29 Remove all the special characters from a string\n",
    "strings=input(\"Enter strings here: \")\n",
    "new_str=\"\"\n",
    "for i in strings:\n",
    "    if i.isalnum():\n",
    "        new_str+= i\n",
    "print(new_str)        \n"
   ]
  },
  {
   "cell_type": "code",
   "execution_count": 88,
   "id": "38ad3850",
   "metadata": {},
   "outputs": [
    {
     "name": "stdout",
     "output_type": "stream",
     "text": [
      " Input number: 5\n",
      " Input exponent: 5\n",
      "3125\n"
     ]
    }
   ],
   "source": [
    "#30 Calculate the power of a number.\n",
    "num=int(input(\" Input number: \"))\n",
    "power = int(input(\" Input exponent: \"))\n",
    "print(pow(num,power))\n"
   ]
  },
  {
   "cell_type": "code",
   "execution_count": 32,
   "id": "900a67d5",
   "metadata": {},
   "outputs": [
    {
     "name": "stdout",
     "output_type": "stream",
     "text": [
      "Enter string here: mm\n",
      "mm is palindrome \n"
     ]
    }
   ],
   "source": [
    "#31 Check if a given number is a palindrome.\n",
    "number= input(\"Enter string here: \")\n",
    "if number[::-1] == number:\n",
    "    print(f\"{number} is palindrome \")\n",
    "else:\n",
    "    print(f\"{number} is not palindrome \")"
   ]
  },
  {
   "cell_type": "code",
   "execution_count": 33,
   "id": "b584c675",
   "metadata": {},
   "outputs": [
    {
     "name": "stdout",
     "output_type": "stream",
     "text": [
      "The second smallest element in a list is 2\n"
     ]
    }
   ],
   "source": [
    "#32 Given a list of integers, find the second smallest element.\n",
    "list1=[1,2,3,4,5,6,7,8,7,9,10]\n",
    "list1.sort(reverse=True)\n",
    "print(f\"The second smallest element in a list is {list1[-2]}\")"
   ]
  },
  {
   "cell_type": "code",
   "execution_count": 204,
   "id": "3ce06802",
   "metadata": {},
   "outputs": [
    {
     "name": "stdout",
     "output_type": "stream",
     "text": [
      "Enter  a string here: imran\n",
      "After removing vowels : mrn\n"
     ]
    }
   ],
   "source": [
    "#33 Remove the vowels from a string.\n",
    "input_string = input(\"Enter  a string here: \")\n",
    "result = input_string\n",
    "\n",
    "vowels = ('a', 'e', 'i', 'o', 'u')\n",
    "\n",
    "for x in input_string.lower():\n",
    "    if x in vowels:\n",
    "        result = result.replace(x, \"\")\n",
    "\n",
    "print(f'After removing vowels : {result}')"
   ]
  },
  {
   "cell_type": "code",
   "execution_count": 92,
   "id": "2354cf46",
   "metadata": {},
   "outputs": [
    {
     "name": "stdout",
     "output_type": "stream",
     "text": [
      " the number of words in each string [5, 6, 13, 7] respectively\n"
     ]
    }
   ],
   "source": [
    "#34 Given a list of strings, find the number of words in each string.\n",
    "list1=[\"imran\",\"python\",\"khademul bari\",\"aiquest\"]\n",
    "list2=[]\n",
    "for i in range(len(list1)):\n",
    "    list2.append(len(list1[i]))\n",
    "print(f\" the number of words in each string {list2} respectively\")               \n",
    "      "
   ]
  },
  {
   "cell_type": "code",
   "execution_count": 36,
   "id": "976a5f53",
   "metadata": {},
   "outputs": [
    {
     "name": "stdout",
     "output_type": "stream",
     "text": [
      "ascending order : [1, 2, 3, 4, 5, 6, 8, 9, 10, 22, 33, 44]\n"
     ]
    }
   ],
   "source": [
    "#35 Sort a list of integers in ascending order.\n",
    "list1=[22,33,44,1,2,3,4,5,6,8,9,10]\n",
    "list1.sort(reverse=False)\n",
    "print(f\"ascending order : {list1}\")"
   ]
  },
  {
   "cell_type": "code",
   "execution_count": 102,
   "id": "5747082e",
   "metadata": {},
   "outputs": [
    {
     "name": "stdout",
     "output_type": "stream",
     "text": [
      "Not unique\n"
     ]
    }
   ],
   "source": [
    "#36 Check if all elements in a list are unique.\n",
    "list1=[1,2,3,4,5,6,7,8,2]\n",
    "list2=[*set(list1)]\n",
    "if list1 == list2:\n",
    "    print(\"Unique\")\n",
    "else:\n",
    "    print(\"Not unique\")"
   ]
  },
  {
   "cell_type": "code",
   "execution_count": 106,
   "id": "f967a859",
   "metadata": {},
   "outputs": [
    {
     "name": "stdout",
     "output_type": "stream",
     "text": [
      "[(1, 2), (2, 3, 4, 56), (2, 3, 4, 5, 6, 7)]\n"
     ]
    }
   ],
   "source": [
    "#37 Given a list of tuples, sort them based on the second element.\n",
    "ls_tup=[(1,2,3,4),(1,2),(2,3,4,56,),(2,3,4,5,6,7)]\n",
    "print(ls_tup[1:])"
   ]
  },
  {
   "cell_type": "code",
   "execution_count": 39,
   "id": "14e55b53",
   "metadata": {},
   "outputs": [
    {
     "name": "stdout",
     "output_type": "stream",
     "text": [
      "[(1, 2, 3), (1, 2, 3, 4, 5)]\n"
     ]
    }
   ],
   "source": [
    "#38 Remove the duplicates from a list of tuples.\n",
    "tpl=[(1,2,3,4,5),(1,2,3,4,5),(1,2,3)]\n",
    "tpl1=[*set(tpl)]\n",
    "print(tpl1)"
   ]
  },
  {
   "cell_type": "code",
   "execution_count": 182,
   "id": "ad0f217c",
   "metadata": {},
   "outputs": [
    {
     "name": "stdout",
     "output_type": "stream",
     "text": [
      "imran\n"
     ]
    }
   ],
   "source": [
    "#39 Find the most frequent element in a list.\n",
    "imran_lst = ['imran','imran','amit','kantu','shakil','noman']\n",
    "frq= max(set(imran_lst), key = imran_lst.count)\n",
    "\n",
    "print(frq)\n"
   ]
  },
  {
   "cell_type": "code",
   "execution_count": 41,
   "id": "cbb22ce4",
   "metadata": {},
   "outputs": [
    {
     "name": "stdout",
     "output_type": "stream",
     "text": [
      "common value of two lists {8, 2, 4, 6}\n"
     ]
    }
   ],
   "source": [
    "#40 Given two lists, find their common elements.\n",
    "list1= [1,2,3,4,5,6,7,8,9]\n",
    "list2= [2,4,6,8,12]\n",
    "common_value=set(list1).intersection(list2)\n",
    "print(f\"common value of two lists {common_value}\")"
   ]
  },
  {
   "cell_type": "code",
   "execution_count": 205,
   "id": "22b6f1a8",
   "metadata": {},
   "outputs": [
    {
     "name": "stdout",
     "output_type": "stream",
     "text": [
      "First number : 1\n",
      "second number : 10\n",
      "25\n"
     ]
    }
   ],
   "source": [
    "#41 Calculate the sum of all the odd numbers between two given numbers.\n",
    "num1=int(input(\"First number : \"))\n",
    "num2=int(input(\"second number : \"))\n",
    "result=0\n",
    "for i in range(num1,num2+1):\n",
    "    if i%2 != 0:\n",
    "        result+=i\n",
    "print(result)        "
   ]
  },
  {
   "cell_type": "code",
   "execution_count": 114,
   "id": "69aec324",
   "metadata": {},
   "outputs": [
    {
     "name": "stdout",
     "output_type": "stream",
     "text": [
      "enter your email here: imran@gmail.com\n",
      " valid email address\n"
     ]
    }
   ],
   "source": [
    "#42 Check if a given string is a valid email address.\n",
    "str1=input(\"enter your email here: \")\n",
    "if str1.endswith(\"@gmail.com\"):\n",
    "    print(f\" valid email address\")\n",
    "else:\n",
    "    print(f\"invalid email address\")\n"
   ]
  },
  {
   "cell_type": "code",
   "execution_count": 110,
   "id": "3d3e33a5",
   "metadata": {},
   "outputs": [
    {
     "name": "stdout",
     "output_type": "stream",
     "text": [
      "enter your name here: imran\n",
      "enter your first letter: m\n",
      "No! the sentance is not start with m\n"
     ]
    }
   ],
   "source": [
    "#43 Find the number of words starting with a specific letter in a sentence.\n",
    "str1=input(\"enter your name here: \")\n",
    "str1_check=input(\"enter your first letter: \")\n",
    "if str1.startswith(str1_check):\n",
    "    print(f\"yes the sentance start with {str1_check}\")\n",
    "else:\n",
    "    print(f\"No! the sentance is not start with {str1_check}\")\n",
    "    "
   ]
  },
  {
   "cell_type": "code",
   "execution_count": 45,
   "id": "01f80629",
   "metadata": {},
   "outputs": [
    {
     "name": "stdout",
     "output_type": "stream",
     "text": [
      "The third largest element is 8\n"
     ]
    }
   ],
   "source": [
    "#44 Given a list of integers, find the third largest element.\n",
    "list1= [1,2,3,4,5,6,7,8,9,10]\n",
    "list1.sort(reverse=True)\n",
    "print(f\"The third largest element is {list1[2]}\")"
   ]
  },
  {
   "cell_type": "code",
   "execution_count": 142,
   "id": "b26b1f76",
   "metadata": {},
   "outputs": [
    {
     "name": "stdout",
     "output_type": "stream",
     "text": [
      "yes, list is sorted in non-decreasing(accending) order.\n"
     ]
    }
   ],
   "source": [
    "#45 Check if a given list is sorted in non-decreasing(accending) order.\n",
    "list1=[1,2,3,4,5,6,7,8]\n",
    "list2=list1.copy()\n",
    "list2.sort()\n",
    "if list1 == list2:\n",
    "    print(\"yes, list is sorted in non-decreasing(accending) order.\")\n",
    "else:\n",
    "    print(\"No,  list is not sorted in non-decreasing(accending) order.\")\n",
    "\n"
   ]
  },
  {
   "cell_type": "code",
   "execution_count": 218,
   "id": "529f2cae",
   "metadata": {},
   "outputs": [
    {
     "name": "stdout",
     "output_type": "stream",
     "text": [
      "enter lower range1\n",
      "enter lower range100\n",
      "The lower and upper range are :\n",
      "1 100\n",
      "The prime numbers between 1 and 100 are:\n",
      "2\n",
      "3\n",
      "5\n",
      "7\n",
      "11\n",
      "13\n",
      "17\n",
      "19\n",
      "23\n",
      "29\n",
      "31\n",
      "37\n",
      "41\n",
      "43\n",
      "47\n",
      "53\n",
      "59\n",
      "61\n",
      "67\n",
      "71\n",
      "73\n",
      "79\n",
      "83\n",
      "89\n",
      "97\n"
     ]
    }
   ],
   "source": [
    "#46 Find the number of prime numbers in a given range\n",
    "lower_range = int(input(\"enter lower range\"))\n",
    "upper_range = int(input(\"enter lower range\"))\n",
    "print(\"The lower and upper range are :\")\n",
    "print(lower_range, upper_range)\n",
    "print(f\"The prime numbers between {lower_range} and {upper_range} are:\")\n",
    "for num in range(lower_range, upper_range + 1):\n",
    "    if num > 1:\n",
    "        for i in range(2, num):\n",
    "            if (num % i) == 0:\n",
    "                break\n",
    "        else:\n",
    "            print(num)  \n"
   ]
  },
  {
   "cell_type": "code",
   "execution_count": 176,
   "id": "00331af5",
   "metadata": {},
   "outputs": [
    {
     "name": "stdout",
     "output_type": "stream",
     "text": [
      "{1: 'a', 2: 'b', 3: 'c', 4: 'd', 5: 'e', 6: 'f'}\n"
     ]
    }
   ],
   "source": [
    "#47 Given a list of tuples, convert it into a dictionary.\n",
    "lst_tpl=[(1,2,3,4,5,6),('a','b','c','d','e','f')]\n",
    "lst1=lst_tpl[0]\n",
    "lst2=lst_tpl[1]\n",
    "new_list=dict(zip(lst1,lst2))\n",
    "print(new_list)    "
   ]
  },
  {
   "cell_type": "code",
   "execution_count": 156,
   "id": "de51c8d3",
   "metadata": {},
   "outputs": [
    {
     "name": "stdout",
     "output_type": "stream",
     "text": [
      "Enter string here: immim\n",
      "not Palindrome\n"
     ]
    }
   ],
   "source": [
    "#48 Check if a given string is a palindrome ignoring spaces.\n",
    "strs = input(\"Enter string here: \")\n",
    "strs1=' '\n",
    "strs2=''\n",
    "for i in range(len(strs)):\n",
    "    if strs[i] != strs1:\n",
    "        strs2+=strs[i]\n",
    "if strs2 == strs2[::-1]:\n",
    "    print(\"palindrome\")\n",
    "else:\n",
    "    print(\"not Palindrome\")\n",
    "       "
   ]
  },
  {
   "cell_type": "code",
   "execution_count": 162,
   "id": "c3360176",
   "metadata": {},
   "outputs": [
    {
     "name": "stdout",
     "output_type": "stream",
     "text": [
      "enter your strings here:    imran   KHAN\n",
      "uppercase is 4 and lower case is 5\n"
     ]
    }
   ],
   "source": [
    "#49 Given a string, count the number of uppercase and lowercase letters.\n",
    "strs=input(\"enter your strings here: \").strip()\n",
    "spc=\" \"\n",
    "dl_spc=''\n",
    "upper=0\n",
    "lower=0\n",
    "\n",
    "for i in range(len(strs)):\n",
    "    if strs[i] != spc:\n",
    "        dl_spc+=strs[i]\n",
    "\n",
    "for i in dl_spc:\n",
    "    if(i.isupper()):\n",
    "        upper += 1\n",
    "    else:\n",
    "        lower += 1\n",
    "print(f\"uppercase is {upper} and lower case is {lower}\")            \n",
    "            \n"
   ]
  },
  {
   "cell_type": "code",
   "execution_count": 56,
   "id": "eae675c2",
   "metadata": {},
   "outputs": [
    {
     "name": "stdout",
     "output_type": "stream",
     "text": [
      "enter string here: imraan\n",
      "imran\n"
     ]
    }
   ],
   "source": [
    "#50 Write a program to remove duplicate characters from a string.\"\"\"\n",
    "strings=input(\"enter string here: \")\n",
    "rmv_dpl=\"\"\n",
    "for char in strings:\n",
    "    if char not in rmv_dpl:\n",
    "        rmv_dpl=rmv_dpl+char\n",
    "print(rmv_dpl)"
   ]
  },
  {
   "cell_type": "code",
   "execution_count": null,
   "id": "b3225654",
   "metadata": {},
   "outputs": [],
   "source": []
  }
 ],
 "metadata": {
  "kernelspec": {
   "display_name": "Python 3 (ipykernel)",
   "language": "python",
   "name": "python3"
  },
  "language_info": {
   "codemirror_mode": {
    "name": "ipython",
    "version": 3
   },
   "file_extension": ".py",
   "mimetype": "text/x-python",
   "name": "python",
   "nbconvert_exporter": "python",
   "pygments_lexer": "ipython3",
   "version": "3.9.13"
  }
 },
 "nbformat": 4,
 "nbformat_minor": 5
}
