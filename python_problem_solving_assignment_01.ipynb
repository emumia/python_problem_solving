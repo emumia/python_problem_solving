{
 "cells": [
  {
   "cell_type": "code",
   "execution_count": 8,
   "id": "8f6cd3a6",
   "metadata": {},
   "outputs": [
    {
     "name": "stdout",
     "output_type": "stream",
     "text": [
      "Write a program to calculate the sum of two numbers.\n",
      "Enter First number here: 23.2\n",
      "Enter Second number here: 32.3\n",
      "sum of two number is: 55 and float answer is  55.5 \n",
      "\n"
     ]
    }
   ],
   "source": [
    "# 1.Write a program to calculate the sum of two numbers.\n",
    "print(\"Write a program to calculate the sum of two numbers.\")\n",
    "\n",
    "number1 = float(input(\"Enter First number here: \"))\n",
    "number2 = float(input(\"Enter Second number here: \"))\n",
    "sum_of_2_number = (number1 + number2)\n",
    "print(f'sum of two number is: {int(sum_of_2_number)} and float answer is  {float(sum_of_2_number)} \\n')"
   ]
  },
  {
   "cell_type": "code",
   "execution_count": 11,
   "id": "98e686e8",
   "metadata": {},
   "outputs": [
    {
     "name": "stdout",
     "output_type": "stream",
     "text": [
      "Write a program to find the average of three numbers.\n",
      "\n",
      "Enter First number here: 23\n",
      "Enter Second number here: 32\n",
      "Enter third number here: 23.2\n",
      "sum of two number is: 26 and float answer is  26.066666666666666\n",
      "sum of two number is in 2 decimal point:  26.07\n"
     ]
    }
   ],
   "source": [
    "# 2.Write a program to find the average of three numbers.\n",
    "\n",
    "print(\"Write a program to find the average of three numbers.\\n\")\n",
    "\n",
    "number1 = float(input(\"Enter First number here: \"))\n",
    "number2 = float(input(\"Enter Second number here: \"))\n",
    "number3 = float(input(\"Enter third number here: \"))\n",
    "average_of_3_number = (number1 + number2 + number3)/3\n",
    "print(f'sum of two number is: {int(average_of_3_number)} and float answer is  {float(average_of_3_number)}')\n",
    "print(f'sum of two number is in 2 decimal point: % .2f' %average_of_3_number)"
   ]
  },
  {
   "cell_type": "code",
   "execution_count": 12,
   "id": "2a7c0627",
   "metadata": {},
   "outputs": [
    {
     "name": "stdout",
     "output_type": "stream",
     "text": [
      "Write a program to check if a given number is even or odd. \n",
      "\n",
      "Enter the number here: 23\n",
      "The number 23 is odd \n"
     ]
    }
   ],
   "source": [
    "# 3.Write a program to check if a given number is even or odd.\n",
    "print(\"Write a program to check if a given number is even or odd. \\n\")\n",
    "\n",
    "number=int(input(\"Enter the number here: \"))\n",
    "if number %2 == 0:\n",
    "    print(f\"The number {number} is even \")\n",
    "else:\n",
    "    print(f\"The number {number} is odd \")\n"
   ]
  },
  {
   "cell_type": "code",
   "execution_count": 29,
   "id": "6604a09a",
   "metadata": {},
   "outputs": [
    {
     "name": "stdout",
     "output_type": "stream",
     "text": [
      "First number12\n",
      "Second number13\n",
      "Third number14\n",
      "The largest number among three number is 14 \n"
     ]
    }
   ],
   "source": [
    "# 4.Write a program to find the maximum number among three given numbers.\n",
    "num1=int(input(\"First number\"))\n",
    "num2=int(input(\"Second number\"))\n",
    "num3=int(input(\"Third number\"))\n",
    "largest_number=0\n",
    "\n",
    "if num1>num2 and num1>num3:\n",
    "    largest_number = num1\n",
    "if num2 > num1 and num2 > num3:\n",
    "    largest_number = num2\n",
    "if num3 > num1 and num3 > num2:\n",
    "    largest_number = num3\n",
    "    \n",
    "print(f\"The largest number among three number is {largest_number} \")    "
   ]
  },
  {
   "cell_type": "code",
   "execution_count": 43,
   "id": "e0014bfc",
   "metadata": {},
   "outputs": [
    {
     "name": "stdout",
     "output_type": "stream",
     "text": [
      "Input number here: 5\n",
      "The factorial of 5 is 120\n"
     ]
    }
   ],
   "source": [
    "# 5.Write a program to calculate the factorial of a given number.\n",
    "num = int(input(\"Input number here: \"))\n",
    "\n",
    "factorial = 1\n",
    "\n",
    "# checking if the number is negative, positive or zero\n",
    "if num < 0:\n",
    "    print(\"Sorry, factorial does not exist for negative numbers\")\n",
    "elif num == 0:\n",
    "    print(\"The factorial of 0 is 1\")\n",
    "else:\n",
    "    for i in range(1,num + 1):\n",
    "        factorial = factorial*i\n",
    "    print(f\"The factorial of {num} is {factorial}\")"
   ]
  },
  {
   "cell_type": "code",
   "execution_count": 15,
   "id": "6018c48e",
   "metadata": {},
   "outputs": [
    {
     "name": "stdout",
     "output_type": "stream",
     "text": [
      "Check if a given number is even. Print True if it is, and False otherwise.\n",
      "\n",
      "Enter your number here: 23\n",
      "False\n"
     ]
    }
   ],
   "source": [
    "# 6.Check if a given number is even. Print True if it is, and False otherwise.\n",
    "print(\"Check if a given number is even. Print True if it is, and False otherwise.\\n\")\n",
    "number= int(input(\"Enter your number here: \"))\n",
    "if number %2 == 0:\n",
    "    print(\"True\")\n",
    "else:\n",
    "    print(\"False\")"
   ]
  },
  {
   "cell_type": "code",
   "execution_count": 33,
   "id": "a49332a5",
   "metadata": {},
   "outputs": [
    {
     "name": "stdout",
     "output_type": "stream",
     "text": [
      "Enter string here: iMRAN\n",
      "False\n"
     ]
    }
   ],
   "source": [
    "# 7.Determine if a string contains only uppercase letters. Print True if it does, and False otherwise.\n",
    "str1 = input(\"Enter string here: \")\n",
    "if str1.isupper():\n",
    "    print(\"True\")\n",
    "else:\n",
    "    print(\"False\")"
   ]
  },
  {
   "cell_type": "code",
   "execution_count": 36,
   "id": "c4f2ee76",
   "metadata": {},
   "outputs": [
    {
     "name": "stdout",
     "output_type": "stream",
     "text": [
      "Given a list of integers, check if any of the numbers are negative. Print True if there is at least one negative number, and False otherwise\n",
      "\n",
      "True,  There is negative number\n",
      "Negative numbers in the list:  -10 -45 -66 -11\n"
     ]
    }
   ],
   "source": [
    "# 8.Given a list of integers, check if any of the numbers are negative. Print True if there is at least one negative number,\n",
    "# and False otherwise.\n",
    "print(\"Given a list of integers, check if any of the numbers are negative. Print True if there is at least one negative number, and False otherwise\\n\")\n",
    "import numpy as np\n",
    "\n",
    "# list of numbers\n",
    "number1 = [-10, 21, 4, -45, -66, 93, -11]\n",
    "\n",
    "# Using numpy to print the negative number\n",
    "imran = np.array(number1)\n",
    "negative_no = imran[imran <= 0]\n",
    "if negative_no is not True:\n",
    "    print(\"True,  There is negative number\")\n",
    "else:\n",
    "    print(\"False,  there is negative number\")\n",
    "\n",
    "print(\"Negative numbers in the list: \", *negative_no)"
   ]
  },
  {
   "cell_type": "code",
   "execution_count": 42,
   "id": "e712aaaa",
   "metadata": {},
   "outputs": [
    {
     "name": "stdout",
     "output_type": "stream",
     "text": [
      "True\n"
     ]
    }
   ],
   "source": [
    "#easy way\n",
    " \n",
    "# list of numbers\n",
    "list1 = [11, -21, 0, 45, 66, -93]\n",
    " \n",
    "# iterating each number in list\n",
    "for num in list1:\n",
    "    if num < 0:\n",
    "        print(\"True\")\n",
    "        break"
   ]
  },
  {
   "cell_type": "code",
   "execution_count": 37,
   "id": "115cf039",
   "metadata": {},
   "outputs": [
    {
     "name": "stdout",
     "output_type": "stream",
     "text": [
      "Enter year here: 2000\n",
      "2000 is a leap year\n"
     ]
    }
   ],
   "source": [
    "# 9.Check if a given year is a leap year. Print True if it is, and False otherwise. Remember, a leap year is divisible by \n",
    "#4, but not divisible by 100, unless it is also divisible by 400.\n",
    "\n",
    "year = int(input('Enter year here: '))   # To get year we are taking integer input from the user\n",
    "\n",
    "# divided by 100 means century year (ending with 00)\n",
    "# century year divided by 400 is leap year\n",
    "if (year % 400 == 0) and (year % 100 == 0):\n",
    "    print(f\"{year} is a leap year\")\n",
    "\n",
    "# not divided by 100 means not a century year\n",
    "# year divided by 4 is a leap year\n",
    "elif (year % 4 ==0) and (year % 100 != 0):\n",
    "    print(f\"{year} is a leap year\")\n",
    "\n",
    "# if not divided by both 400 (century year) and 4 (not century year)\n",
    "# year is not leap year\n",
    "else:\n",
    "    print(f\"{year} is not a leap year\")"
   ]
  },
  {
   "cell_type": "code",
   "execution_count": 38,
   "id": "0ec952e1",
   "metadata": {},
   "outputs": [
    {
     "name": "stdout",
     "output_type": "stream",
     "text": [
      "Enter year here:1200\n",
      "1200 Leap year\n"
     ]
    }
   ],
   "source": [
    "#Another way to findout leap year\n",
    "year = int(input(\"Enter year here:\")) \n",
    "if year % 4 == 0:\n",
    "    if year % 100 == 0:\n",
    "        if year % 400 == 0:\n",
    "            print(f\"{year} Leap year\")\n",
    "        else:\n",
    "            print(f\"{year} Not a leap year\") \n",
    "    else:\n",
    "          print(f\"{year}Leap year\") \n",
    "else:\n",
    "    print(f\"{year }Not a leap year\")\n"
   ]
  },
  {
   "cell_type": "code",
   "execution_count": 39,
   "id": "08fca42c",
   "metadata": {},
   "outputs": [
    {
     "name": "stdout",
     "output_type": "stream",
     "text": [
      "Given two strings, check if they have the same length. Print True if they do, and False otherwise\n",
      "Enter your first string here: imran\n",
      "Enter your first string here: im\n",
      "False\n"
     ]
    }
   ],
   "source": [
    "# 10.Given two strings, check if they have the same length. Print True if they do, and False otherwise.\n",
    "print(\"Given two strings, check if they have the same length. Print True if they do, and False otherwise\")\n",
    "\n",
    "str1 = input(\"Enter your first string here: \")\n",
    "str2 = input(\"Enter your first string here: \")\n",
    "if len(str1) == len(str2):\n",
    "    print(\"True\")\n",
    "else:\n",
    "    print(\"False\")"
   ]
  },
  {
   "cell_type": "code",
   "execution_count": null,
   "id": "68a17c61",
   "metadata": {},
   "outputs": [],
   "source": []
  }
 ],
 "metadata": {
  "kernelspec": {
   "display_name": "Python 3 (ipykernel)",
   "language": "python",
   "name": "python3"
  },
  "language_info": {
   "codemirror_mode": {
    "name": "ipython",
    "version": 3
   },
   "file_extension": ".py",
   "mimetype": "text/x-python",
   "name": "python",
   "nbconvert_exporter": "python",
   "pygments_lexer": "ipython3",
   "version": "3.9.13"
  }
 },
 "nbformat": 4,
 "nbformat_minor": 5
}
